{
 "cells": [
  {
   "cell_type": "code",
   "execution_count": 1,
   "metadata": {},
   "outputs": [],
   "source": [
    "import PIL\n",
    "import numpy as np \n",
    "import pandas as pd\n",
    "import matplotlib.pyplot as plt\n",
    "import cv2\n",
    "import os\n",
    "from shapely.geometry import Polygon, LinearRing"
   ]
  },
  {
   "cell_type": "code",
   "execution_count": 2,
   "metadata": {},
   "outputs": [],
   "source": [
    "def rle_to_pixels(rle_code):\n",
    "#     rle_code = [int(i) for i in rle_code.split()]\n",
    "    pixels = [(pixel_position % 768, pixel_position // 768)\n",
    "              for start, length in list(zip(rle_code[0:-1:2], rle_code[1::2]))\n",
    "              for pixel_position in range(start, start + length)]\n",
    "    return pixels"
   ]
  },
  {
   "cell_type": "code",
   "execution_count": 3,
   "metadata": {},
   "outputs": [],
   "source": [
    "def apply_mask(image, mask):\n",
    "    for x, y in mask:\n",
    "        image[x, y, [0, 1]] = 255\n",
    "    return image"
   ]
  },
  {
   "cell_type": "code",
   "execution_count": 4,
   "metadata": {},
   "outputs": [],
   "source": [
    "def show_img(title):\n",
    "    path = \"D:\\\\diplom\\\\train_v2\\\\\"\n",
    "    img = cv2.imread(path + title)\n",
    "    plt.imshow(cv2.cvtColor(img, cv2.COLOR_BGR2RGB))\n",
    "    return 0"
   ]
  },
  {
   "cell_type": "code",
   "execution_count": 5,
   "metadata": {},
   "outputs": [],
   "source": [
    "def str_to_int(array):\n",
    "    for i in range(len(array)):\n",
    "        array[i] = np.fromstring(array[i], dtype=int, sep=' ')\n",
    "    return array"
   ]
  },
  {
   "cell_type": "code",
   "execution_count": 6,
   "metadata": {},
   "outputs": [],
   "source": [
    "def angle_coor(ship_mask):\n",
    "    coor = np.zeros((4,2))\n",
    "    \n",
    "    coor[0] = ship_mask[np.argmin(ship_mask[:,0])] # точка с y_min\n",
    "    coor[1] = ship_mask[np.argmin(ship_mask[:,1])] # точка с x_min\n",
    "    coor[2] = ship_mask[np.argmax(ship_mask[:,0])] # точка с y_max\n",
    "    coor[3] = ship_mask[np.argmax(ship_mask[:,1])] # точка с x_max\n",
    "    \n",
    "    return coor"
   ]
  },
  {
   "cell_type": "code",
   "execution_count": 7,
   "metadata": {},
   "outputs": [],
   "source": [
    "def in_square(point, val, i, j):\n",
    "    if ((val[i] + 10) < point[0] < (val[i+1] - 10)) and \\\n",
    "    ((val[j] + 10) < point[1] < (val[j+1] - 10)):\n",
    "        return True\n",
    "    else:\n",
    "        return False"
   ]
  },
  {
   "cell_type": "code",
   "execution_count": 8,
   "metadata": {},
   "outputs": [],
   "source": [
    "def check_min_max(angles):\n",
    "    if (angles[0][0] == angles[3][0]) & (angles[0][1] > angles[3][1]):\n",
    "        angles[[0,3]] = angles[[3,0]] \n",
    "    \n",
    "    if (angles[1][0] == angles[2][0]) & (angles[1][1] > angles[2][1]):\n",
    "        angles[[1,2]] = angles[[2,1]]\n",
    "        \n",
    "    return angles"
   ]
  },
  {
   "cell_type": "code",
   "execution_count": 9,
   "metadata": {},
   "outputs": [],
   "source": [
    "def crop_ext_samples_positives(positive_path, path, title, val, df):\n",
    "    img_df = df.loc[df['ImageId'] == title]\n",
    "    img_df = img_df['EncodedPixels']\n",
    "    img_df = img_df.values\n",
    "    img_df = str_to_int(img_df)\n",
    "    \n",
    "    img = cv2.imread(path + title)\n",
    "\n",
    "    for i in range(len(val) - 1):\n",
    "        for j in range(len(val) - 1):\n",
    "            for k in range(len(img_df)):\n",
    "                angles = angle_coor(np.asarray(rle_to_pixels(img_df[k]))) #получение координат углов у судна \n",
    "                if k == 0:\n",
    "                    print(angles)\n",
    "                if (in_square(angles[0], val, i, j)) or (in_square(angles[1], val, i, j)) \\\n",
    "                or (in_square(angles[2], val, i, j)) or (in_square(angles[3], val, i, j)):\n",
    "                    crop_img = img[val[i]:val[i+1], val[j]:val[j+1]].copy()\n",
    "                    cv2.imwrite((os.path.join(positive_path, f'{i}_{j}_{title}')), crop_img)\n",
    "                     "
   ]
  },
  {
   "cell_type": "code",
   "execution_count": 10,
   "metadata": {},
   "outputs": [],
   "source": [
    "def crop_in_samples_positives(positive_path, path, title, val, df):\n",
    "    img_df = df.loc[df['ImageId'] == title]\n",
    "    img_df = img_df['EncodedPixels']\n",
    "    img_df = img_df.values\n",
    "    img_df = str_to_int(img_df)\n",
    "    \n",
    "    img = cv2.imread(path + title)\n",
    "    \n",
    "    for i in range(len(val) - 1):\n",
    "        for j in range(len(val) - 1):\n",
    "            for k in range(len(img_df)):\n",
    "                angles = angle_coor(np.asarray(rle_to_pixels(img_df[k])))\n",
    "                if restrict(angles) == True:\n",
    "                    continue\n",
    "                angles = check_min_max(angles)\n",
    "                if check_overlaps(angles, val, i, j) == True:\n",
    "                    crop_img = img[val[i]:val[i+1], val[j]:val[j+1]].copy()\n",
    "                    cv2.imwrite((os.path.join(positive_path, f'{i}_{j}_{title}')), crop_img)\n",
    "                    "
   ]
  },
  {
   "cell_type": "code",
   "execution_count": 220,
   "metadata": {},
   "outputs": [],
   "source": [
    "def crop_samples_negatives(negative_path, path, neg_title, val):\n",
    "    img = cv2.imread(path + neg_title)\n",
    "    \n",
    "    for i in range(len(val) - 1):\n",
    "        for j in range(len(val) - 1):\n",
    "            crop_img = img[val[i]:val[i+1], val[j]:val[j+1]].copy()\n",
    "            cv2.imwrite((os.path.join(negative_path, f'{i}_{j}_{neg_title}')), crop_img)         \n",
    "            "
   ]
  },
  {
   "cell_type": "code",
   "execution_count": 234,
   "metadata": {},
   "outputs": [],
   "source": [
    "def crop_rand_samples_negatives(negative_path, path, neg_title, val, step_count_i, step_count_j):\n",
    "    # берутся случаайные части изображения \n",
    "    # количество взятых сегментов будет равно step_count**2 \n",
    "    \n",
    "    img = cv2.imread(path + neg_title)\n",
    "    \n",
    "    i_steps = np.random.choice(len(val)-1, step_count_i, replace = False)\n",
    "    j_steps = np.random.choice(len(val)-1, step_count_j, replace = False)\n",
    "    \n",
    "    for i in i_steps:\n",
    "        for j in j_steps:\n",
    "            crop_img = img[val[i]:val[i+1], val[j]:val[j+1]].copy()\n",
    "            cv2.imwrite((os.path.join(negative_path, f'{i}_{j}_{neg_title}')), crop_img)\n",
    "            "
   ]
  },
  {
   "cell_type": "code",
   "execution_count": 12,
   "metadata": {},
   "outputs": [],
   "source": [
    "def check_overlaps(angles, vl, i, j, show = False):\n",
    "    \n",
    "    flip_angles = np.zeros((4,2))\n",
    "    \n",
    "    for k in range(len(angles)):\n",
    "        flip_angles[k] = np.flip(angles[k])\n",
    "    \n",
    "    p1 = Polygon([flip_angles[0], flip_angles[1], flip_angles[2], flip_angles[3]])\n",
    "    p2 = Polygon([(val[j],val[i]), (val[j+1],val[i]), (val[j+1],val[i+1]), (val[j],val[i+1])])\n",
    "    \n",
    "    if show == True:\n",
    "        x, y = p1.exterior.xy\n",
    "        x1, y1 = p2.exterior.xy\n",
    "        fig = plt.figure(1, figsize=(5,5))\n",
    "        ax = fig.add_subplot(111)\n",
    "        plt.gca().invert_yaxis()\n",
    "        ax.plot(x, y, 'r-', x1, y1, 'b-')\n",
    "        ax.set_title('Polygon')\n",
    "    \n",
    "    return p1.intersects(p2)"
   ]
  },
  {
   "cell_type": "code",
   "execution_count": 13,
   "metadata": {},
   "outputs": [],
   "source": [
    "def restrict(angles):\n",
    "    # если какая-либо диагональ баундинг бокса больше данного значения, то это\n",
    "    # явно ошибка в разметке\n",
    "    if ((angles[2][0] - angles[0][0]) > 480)|((angles[1][1] - angles[3][1]) > 480):\n",
    "        return True\n",
    "    else :\n",
    "        return False"
   ]
  },
  {
   "cell_type": "code",
   "execution_count": 14,
   "metadata": {},
   "outputs": [],
   "source": [
    "file = \"un\"\n",
    "df_set = pd.read_csv(f\"D:\\\\diplom\\\\{file}_ship_segmentations.csv\")\n",
    "df = pd.read_csv(\"D:\\\\diplom\\\\train_ship_segmentations_v2.csv\")\n",
    "df['HasShip'] = df['EncodedPixels'].notnull()\n",
    "\n",
    "# sdf = df_set.loc[lambda df_set : df_set['HasShip'] == True].reset_index(drop=True)\n",
    "df = df.loc[lambda df: df['HasShip'] == False].reset_index(drop=True)\n",
    "path = \"D:\\\\diplom\\\\train_v2\\\\\"\n",
    "val = np.array([0, 256, 512, 768])# вектор, который содержит координаты внешних отсечений\n",
    "\n",
    "# n_sdf = sdf.values\n",
    "# n_sdf = np.hstack((n_sdf, np.zeros((n_sdf.shape[0],1))))\n"
   ]
  },
  {
   "cell_type": "code",
   "execution_count": 19,
   "metadata": {},
   "outputs": [
    {
     "data": {
      "text/plain": [
       "2.770932252460915"
      ]
     },
     "execution_count": 19,
     "metadata": {},
     "output_type": "execute_result"
    }
   ],
   "source": []
  },
  {
   "cell_type": "markdown",
   "metadata": {},
   "source": [
    "##### Выбор и нарезка положительных семплов для окна 128х128"
   ]
  },
  {
   "cell_type": "code",
   "execution_count": 25,
   "metadata": {},
   "outputs": [
    {
     "data": {
      "text/plain": [
       "8635"
      ]
     },
     "execution_count": 25,
     "metadata": {},
     "output_type": "execute_result"
    }
   ],
   "source": [
    "title = df_set['ImageId'].drop_duplicates(keep = 'first').values"
   ]
  },
  {
   "cell_type": "code",
   "execution_count": 27,
   "metadata": {
    "scrolled": false
   },
   "outputs": [],
   "source": [
    "val_in = np.linspace(0, 768, 7).astype(int)\n",
    "in_pos_path = \"D:\\\\diplom\\\\positive_in\\\\\"\n",
    "\n",
    "for i in title : crop_in_samples_positives(in_pos_path, path, i, val_in, df_set)"
   ]
  },
  {
   "cell_type": "code",
   "execution_count": 15,
   "metadata": {},
   "outputs": [
    {
     "data": {
      "text/plain": [
       "23927"
      ]
     },
     "execution_count": 15,
     "metadata": {},
     "output_type": "execute_result"
    }
   ],
   "source": [
    "len(os.listdir(path=\"D:\\\\diplom\\\\positive_in\\\\\"))"
   ]
  },
  {
   "cell_type": "code",
   "execution_count": 33,
   "metadata": {},
   "outputs": [],
   "source": [
    "# for i in range(len(n_sdf)):\n",
    "#     n_sdf[i,3] = np.fromstring(n_sdf[i][1], dtype=int, sep=' ')[1::2].sum()"
   ]
  },
  {
   "cell_type": "code",
   "execution_count": 12,
   "metadata": {},
   "outputs": [],
   "source": [
    "# n_sdf = n_sdf[n_sdf[:,3].argsort()][::-1]\n",
    "# n_sdf = pd.DataFrame({'ImageId':n_sdf[:,0], 'EncodedPixels':n_sdf[:,1], 'HasShip':n_sdf[:,2], 'Area':n_sdf[:,3]})"
   ]
  },
  {
   "cell_type": "markdown",
   "metadata": {},
   "source": [
    "#### Выбор и нарезка положительных семплов для окна 256х256"
   ]
  },
  {
   "cell_type": "code",
   "execution_count": 59,
   "metadata": {},
   "outputs": [],
   "source": [
    "positive_path = 'D:\\diplom\\positive_ext'\n",
    "\n",
    "for i in title : crop_ext_samples_positives(positive_path, path, i, val, df_set)"
   ]
  },
  {
   "cell_type": "code",
   "execution_count": 27,
   "metadata": {},
   "outputs": [
    {
     "data": {
      "text/plain": [
       "15710"
      ]
     },
     "execution_count": 27,
     "metadata": {},
     "output_type": "execute_result"
    }
   ],
   "source": [
    "# print('number of images:', len(os.listdir(path=\"D\\diplom\\positive_ext\\\")))\n",
    "len(os.listdir(path=\"D:\\\\diplom\\\\positive_ext\\\\\"))"
   ]
  },
  {
   "cell_type": "markdown",
   "metadata": {},
   "source": [
    "#### Выбор и нарезка отрицательных семплов для окна 128х128\n"
   ]
  },
  {
   "cell_type": "code",
   "execution_count": 248,
   "metadata": {},
   "outputs": [],
   "source": [
    "neg_titles = df.sample(n=4000, random_state = 512)[\"ImageId\"].values"
   ]
  },
  {
   "cell_type": "code",
   "execution_count": 249,
   "metadata": {},
   "outputs": [],
   "source": [
    "negative_path = \"D:\\\\diplom\\\\negative_in\"\n",
    "# neg_title = np.array(['fffe646cf.jpg'])\n",
    "val_in = np.linspace(0, 768, 7).astype(int)\n",
    "step_count_i = 3\n",
    "step_count_j = 3"
   ]
  },
  {
   "cell_type": "code",
   "execution_count": 250,
   "metadata": {},
   "outputs": [],
   "source": [
    "for title in neg_titles : crop_rand_samples_negatives(negative_path, path, title, val_in, step_count_i, step_count_j)"
   ]
  },
  {
   "cell_type": "markdown",
   "metadata": {},
   "source": [
    "#### Выбор и нарезка отрицательных семплов для окна 256х256"
   ]
  },
  {
   "cell_type": "code",
   "execution_count": 202,
   "metadata": {},
   "outputs": [],
   "source": [
    "neg_titles = df.sample(frac = 174/15000, random_state = 256)[\"ImageId\"].values\n"
   ]
  },
  {
   "cell_type": "code",
   "execution_count": 75,
   "metadata": {},
   "outputs": [],
   "source": [
    "negative_path = \"D:\\\\diplom\\\\negative_ext\"\n",
    "for i in neg_titles : crop_samples_negatives(negative_path, path, i, val)"
   ]
  },
  {
   "cell_type": "code",
   "execution_count": 76,
   "metadata": {},
   "outputs": [
    {
     "data": {
      "text/plain": [
       "15660"
      ]
     },
     "execution_count": 76,
     "metadata": {},
     "output_type": "execute_result"
    }
   ],
   "source": [
    "len(os.listdir(path=\"D:\\\\diplom\\\\negative_ext\\\\\"))"
   ]
  },
  {
   "cell_type": "code",
   "execution_count": null,
   "metadata": {},
   "outputs": [],
   "source": []
  }
 ],
 "metadata": {
  "kernelspec": {
   "display_name": "Python 3",
   "language": "python",
   "name": "python3"
  },
  "language_info": {
   "codemirror_mode": {
    "name": "ipython",
    "version": 3
   },
   "file_extension": ".py",
   "mimetype": "text/x-python",
   "name": "python",
   "nbconvert_exporter": "python",
   "pygments_lexer": "ipython3",
   "version": "3.7.1"
  }
 },
 "nbformat": 4,
 "nbformat_minor": 2
}
