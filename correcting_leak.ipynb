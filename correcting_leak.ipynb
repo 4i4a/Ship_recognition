{
 "cells": [
  {
   "cell_type": "code",
   "execution_count": 5,
   "metadata": {},
   "outputs": [],
   "source": [
    "import numpy as np \n",
    "import pandas as pd\n",
    "import matplotlib.pyplot as plt\n",
    "import cv2\n",
    "import os"
   ]
  },
  {
   "cell_type": "code",
   "execution_count": 6,
   "metadata": {},
   "outputs": [],
   "source": [
    "file = \"train\"\n",
    "df_set = pd.read_csv(f\"D:\\\\diplom\\\\{file}_ship_segmentations_v2.csv\")\n",
    "df_set['HasShip'] = df_set['EncodedPixels'].notnull()\n",
    "\n",
    "sdf = df_set.loc[lambda df_set : df_set['HasShip'] == True].reset_index(drop=True)"
   ]
  },
  {
   "cell_type": "code",
   "execution_count": 3,
   "metadata": {},
   "outputs": [],
   "source": [
    "rle = lambda x: ' '.join(x.split(\" \")[1::2]) + ' ' + \\\n",
    "' '.join([ str(int(hor) % 256)  for hor in x.split(\" \")[0::2]]) if (isinstance(x, str)) else x\n",
    "\n",
    "clean_sdf = sdf.copy()\n",
    "clean_sdf[\"RleAndPosition\"] = clean_sdf.EncodedPixels.apply(rle)"
   ]
  },
  {
   "cell_type": "code",
   "execution_count": null,
   "metadata": {},
   "outputs": [],
   "source": [
    "same_rle = lambda x: clean_sdf.ImageId[clean_sdf[\"RleAndPosition\"] == x].tolist()\n",
    "clean_sdf[\"AllSameRle\"] = clean_sdf[\"RleAndPosition\"].apply(same_rle)"
   ]
  },
  {
   "cell_type": "code",
   "execution_count": null,
   "metadata": {},
   "outputs": [],
   "source": [
    "un_clean_sdf = clean_sdf.groupby('ImageId')['AllSameRle'].apply(lambda x: set(x.sum())) "
   ]
  },
  {
   "cell_type": "code",
   "execution_count": null,
   "metadata": {},
   "outputs": [],
   "source": [
    "Dropped = []\n",
    "un_clean_sdf_copy =  un_clean_sdf.copy()\n",
    "for item in un_clean_sdf.iteritems():\n",
    "    if not item[0] in Dropped:\n",
    "        for item_check in un_clean_sdf.iteritems():\n",
    "            if item_check[0] in item[1] and not item_check[0] in Dropped and item_check[0] != item[0]:\n",
    "                un_clean_sdf = un_clean_sdf.drop(item_check[0])\n",
    "                Dropped = Dropped + [item_check[0]]\n",
    "print(len(un_clean_sdf))"
   ]
  },
  {
   "cell_type": "code",
   "execution_count": null,
   "metadata": {},
   "outputs": [],
   "source": [
    "train_un_clean_sdf = un_clean_sdf.sample(frac = 0.8, random_state = 768)\n",
    "validation_un_clean_sdf = un_clean_sdf.drop(train_un_clean_sdf.index)"
   ]
  },
  {
   "cell_type": "code",
   "execution_count": null,
   "metadata": {},
   "outputs": [],
   "source": [
    "all_uniq_ship_segmentations = clean_sdf.loc[[True if ID in un_clean_sdf.index \\\n",
    "                                            else False for ID in clean_sdf[\"ImageId\"]]]\n",
    "all_uniq_ship_segmentaions.to_csv(r\"D:\\\\diplom\\\\un_ship_segmentaions.csv\", index = None)"
   ]
  },
  {
   "cell_type": "code",
   "execution_count": null,
   "metadata": {},
   "outputs": [],
   "source": [
    "un_train_ship_segmentations = clean_sdf.loc[[True if ID in train_un_clean_sdf.index \\\n",
    "                                             else False for ID in clean_sdf[\"ImageId\"]]]\n",
    "un_train_ship_segmentations.to_csv(r\"D:\\\\diplom\\\\un_train_ship_segmentaions.csv\", index = None)"
   ]
  },
  {
   "cell_type": "code",
   "execution_count": null,
   "metadata": {},
   "outputs": [],
   "source": [
    "un_validation_ship_segmentations = clean_sdf.loc[[True if ID in validation_un_clean_sdf.index \\\n",
    "                                                 else False for ID in clean_sdf[\"ImageId\"]]]\n",
    "un_validation_ship_segmentations.to_csv(r\"D:\\\\diplom\\\\un_validation_ship_segmentaions.csv\", index = None)"
   ]
  },
  {
   "cell_type": "code",
   "execution_count": null,
   "metadata": {},
   "outputs": [],
   "source": []
  }
 ],
 "metadata": {
  "kernelspec": {
   "display_name": "Python 3",
   "language": "python",
   "name": "python3"
  },
  "language_info": {
   "codemirror_mode": {
    "name": "ipython",
    "version": 3
   },
   "file_extension": ".py",
   "mimetype": "text/x-python",
   "name": "python",
   "nbconvert_exporter": "python",
   "pygments_lexer": "ipython3",
   "version": "3.7.1"
  }
 },
 "nbformat": 4,
 "nbformat_minor": 2
}
